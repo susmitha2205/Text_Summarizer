{
 "cells": [
  {
   "cell_type": "code",
   "execution_count": 2,
   "id": "cf6d94cd-4ac8-4406-8d74-1093ff42d9c6",
   "metadata": {},
   "outputs": [],
   "source": [
    "# Preprocessing\n",
    "def preprocess(text):\n",
    "    sentences = re.split(r'(?<!\\w\\.\\w.)(?<![A-Z][a-z]\\.)(?<=\\.|\\?)\\s', text)\n",
    "    stopwords = [\"i\", \"me\", \"my\", \"myself\", \"we\", \"our\", \"ours\", \"ourselves\", \"you\",\n",
    "                 \"your\", \"yours\", \"yourself\", \"yourselves\", \"he\", \"him\", \"his\", \"himself\", \"she\",\n",
    "                 \"her\", \"hers\", \"herself\", \"it\", \"its\", \"itself\", \"they\", \"them\", \"their\", \"theirs\",\n",
    "                 \"themselves\", \"what\", \"which\", \"who\", \"whom\", \"this\", \"that\", \"these\", \"those\",\n",
    "                 \"am\", \"is\", \"are\", \"was\", \"were\", \"be\", \"been\", \"being\", \"have\", \"has\", \"had\",\n",
    "                 \"having\", \"do\", \"does\", \"did\", \"doing\", \"a\", \"an\", \"the\", \"and\", \"but\", \"if\", \"or\",\n",
    "                 \"because\", \"as\", \"until\", \"while\", \"of\", \"at\", \"by\", \"for\", \"with\", \"about\", \"against\",\n",
    "                 \"between\", \"into\", \"through\", \"during\", \"before\", \"after\", \"above\", \"below\", \"to\",\n",
    "                 \"from\", \"up\", \"down\", \"in\", \"out\", \"on\", \"off\", \"over\", \"under\", \"again\", \"further\",\n",
    "                 \"then\", \"once\", \"here\", \"there\", \"when\", \"where\", \"why\", \"how\", \"all\", \"any\",\n",
    "                 \"both\", \"each\", \"few\", \"more\", \"most\", \"other\", \"some\", \"such\", \"no\", \"nor\",\n",
    "                 \"not\", \"only\", \"own\", \"same\", \"so\", \"than\", \"too\", \"very\", \"s\", \"t\", \"can\", \"will\",\n",
    "                 \"just\", \"don\", \"should\", \"now\"]\n",
    "    preprocessed_sentences = []\n",
    "    for sentence in sentences:\n",
    "        words = sentence.split()\n",
    "        filtered_words = [word for word in words if word.lower() not in stopwords]\n",
    "        preprocessed_sentence = \" \".join(filtered_words)\n",
    "        preprocessed_sentences.append(preprocessed_sentence)\n",
    "\n",
    "    return preprocessed_sentences\n"
   ]
  },
  {
   "cell_type": "code",
   "execution_count": 3,
   "id": "874c3b0f-c793-406f-9cf2-47de4f0271e2",
   "metadata": {},
   "outputs": [],
   "source": [
    "def extract_features(sentences):\n",
    "    features = []\n",
    "    for sentence in sentences:\n",
    "        sentence_length = len(sentence.split())\n",
    "        num_words = len(re.findall(r'\\w+', sentence))\n",
    "\n",
    "        if num_words == 0:\n",
    "            avg_word_length = 0\n",
    "        else:\n",
    "            avg_word_length = sum(len(word) for word in sentence.split()) / num_words\n",
    "\n",
    "        num_characters = len(sentence)\n",
    "        num_digits = len(re.findall(r'\\d', sentence))\n",
    "        num_special_chars = len(re.findall(r'[^\\w\\s]', sentence))\n",
    "        contains_keyword = int('keyword' in sentence.lower())\n",
    "\n",
    "        num_uppercase = len(re.findall(r'[A-Z]', sentence))\n",
    "        num_lowercase = len(re.findall(r'[a-z]', sentence))\n",
    "        num_punctuation = len(re.findall(r'[^\\w\\s]', sentence))\n",
    "\n",
    "        features.append([sentence_length, num_words, avg_word_length,\n",
    "                         num_characters, num_digits, num_special_chars, contains_keyword,\n",
    "                         num_uppercase, num_lowercase, num_punctuation])\n",
    "\n",
    "    return features"
   ]
  },
  {
   "cell_type": "code",
   "execution_count": 4,
   "id": "9f65d152-5ce9-4ca4-bf58-ad3b855f5528",
   "metadata": {},
   "outputs": [],
   "source": [
    "# Sentence Selection\n",
    "def select_sentences(sentences, scores, num_sentences):\n",
    "    scores = np.array(scores)\n",
    "    indices = np.argsort(scores)[::-1][:num_sentences]\n",
    "    ranked_sentences = [(sentences[i], scores[i]) for i in indices]\n",
    "    ranked_sentences = sorted(ranked_sentences, key=lambda x: x[1], reverse=True)\n",
    "    selected_sentences = [sentence for sentence, score in ranked_sentences]\n",
    "    return selected_sentences\n"
   ]
  },
  {
   "cell_type": "code",
   "execution_count": 5,
   "id": "1dab2203-d743-481f-a165-f9be1ecbed8c",
   "metadata": {},
   "outputs": [],
   "source": [
    "# Summary Generation\n",
    "def generate_summary(sentences):\n",
    "    summary = ' '.join(sentences)\n",
    "    return summary"
   ]
  },
  {
   "cell_type": "code",
   "execution_count": 6,
   "id": "f3b60a0a-2833-41ca-9053-751d526393fa",
   "metadata": {},
   "outputs": [],
   "source": [
    "# GUI Functions\n",
    "def summarize_text():\n",
    "    text = input_text_box.get(\"1.0\", tk.END)\n",
    "    num_sentences = int(num_summary_sentences_entry.get())\n",
    "\n",
    "    # Preprocess the document\n",
    "    preprocessed_sentences = preprocess(text)\n",
    "    # Extract features from the preprocessed sentences\n",
    "    features = extract_features(preprocessed_sentences)\n",
    "    # Find the most occurring word in the document\n",
    "    word_counter = Counter(\" \".join(preprocessed_sentences).split())\n",
    "    most_common_word = word_counter.most_common(1)[0][0]\n",
    "    # Generate training sentences and scores based on the most occurring word\n",
    "    train_sentences = [sentence for sentence in preprocessed_sentences if most_common_word in sentence]\n",
    "    train_scores = [word_counter[most_common_word]] * len(train_sentences)\n",
    "    # Train a regression model using labeled data\n",
    "    vectorizer = TfidfVectorizer()\n",
    "    X_train = vectorizer.fit_transform(train_sentences)\n",
    "    # Manually fit the regression model\n",
    "    regression_model = LinearRegression()\n",
    "    regression_model.coef_ = np.zeros(X_train.shape[1])  # Set the coefficients to zeros\n",
    "    regression_model.intercept_ = 0\n",
    "    # Apply the regression model to score the sentences in the document\n",
    "    X_test = vectorizer.transform(preprocessed_sentences).toarray()\n",
    "    predicted_scores = np.dot(X_test, regression_model.coef_) + regression_model.intercept_\n",
    "    # Select the top-ranked sentences\n",
    "    summary_sentences = select_sentences(preprocessed_sentences, predicted_scores, num_sentences=num_sentences)\n",
    "    # Generate the summary\n",
    "    summary = generate_summary(summary_sentences)\n",
    "\n",
    "    output_text_box.delete(\"1.0\", tk.END)\n",
    "    output_text_box.insert(tk.END, summary)\n"
   ]
  },
  {
   "cell_type": "code",
   "execution_count": 7,
   "id": "b4add39e-7158-4218-ba37-0d3507753a70",
   "metadata": {},
   "outputs": [],
   "source": [
    "def clear_text():\n",
    "    input_text_box.delete(\"1.0\", tk.END)\n",
    "    output_text_box.delete(\"1.0\", tk.END)"
   ]
  },
  {
   "cell_type": "code",
   "execution_count": 8,
   "id": "28bd205f-6dfa-4e66-bb28-c8b0880585f7",
   "metadata": {},
   "outputs": [],
   "source": [
    "def show_about():\n",
    "    messagebox.showinfo(\"About\", \"This is a text summarizer GUI created using Tkinter.\")\n"
   ]
  },
  {
   "cell_type": "code",
   "execution_count": 9,
   "id": "592a10cd-537f-4ef3-b963-248683baa12e",
   "metadata": {},
   "outputs": [
    {
     "data": {
      "text/plain": [
       "''"
      ]
     },
     "execution_count": 9,
     "metadata": {},
     "output_type": "execute_result"
    }
   ],
   "source": [
    "# Create the main window\n",
    "window = tk.Tk()\n",
    "window.title(\"Text Summarizer\")"
   ]
  },
  {
   "cell_type": "code",
   "execution_count": 10,
   "id": "aace000d-1c4f-4694-8165-2952b18ba706",
   "metadata": {},
   "outputs": [],
   "source": [
    "# Set the background color of the window\n",
    "window.configure(background=\"pink\")\n"
   ]
  },
  {
   "cell_type": "code",
   "execution_count": 11,
   "id": "43f263b8-f78b-4f8f-a253-ab9884f03719",
   "metadata": {},
   "outputs": [],
   "source": [
    "# Create input text box\n",
    "input_label = tk.Label(window, text=\"Input Text\")\n",
    "input_label.grid(row=0, column=0, padx=10, pady=5, sticky=tk.W)\n",
    "input_text_box = scrolledtext.ScrolledText(window, width=75, height=25)\n",
    "input_text_box.grid(row=1, column=0, padx=10, pady=5, sticky=tk.W)\n"
   ]
  },
  {
   "cell_type": "code",
   "execution_count": 12,
   "id": "8fcb20fb-a7df-4bb3-a00a-cbf8e0bed59b",
   "metadata": {},
   "outputs": [],
   "source": [
    "# Create output text box\n",
    "output_label = tk.Label(window, text=\"Summarized Text\")\n",
    "output_label.grid(row=0, column=1, padx=10, pady=5, sticky=tk.W)\n",
    "output_text_box = scrolledtext.ScrolledText(window, width=75, height=25)\n",
    "output_text_box.grid(row=1, column=1, padx=10, pady=5, sticky=tk.W)"
   ]
  },
  {
   "cell_type": "code",
   "execution_count": 13,
   "id": "67d4c824-710a-4224-83a6-7fda975200b5",
   "metadata": {},
   "outputs": [],
   "source": [
    "# Create number of sentences label and entry\n",
    "num_summary_sentences_label = tk.Label(window, text=\"Number of Sentences:\")\n",
    "num_summary_sentences_label.grid(row=2, column=0, padx=10, pady=5, sticky=tk.W)\n",
    "num_summary_sentences_entry = tk.Entry(window, width=5)\n",
    "num_summary_sentences_entry.grid(row=2, column=0, padx=10, pady=5, sticky=tk.E)\n"
   ]
  },
  {
   "cell_type": "code",
   "execution_count": 14,
   "id": "12bf51de-e066-4e4f-88e6-1d516345c200",
   "metadata": {},
   "outputs": [],
   "source": [
    "# Set default value for the number of sentences\n",
    "num_summary_sentences_entry.insert(tk.END, \"3\")"
   ]
  },
  {
   "cell_type": "code",
   "execution_count": 15,
   "id": "38f649f9-6920-4a8d-8a33-fda4eb6c9966",
   "metadata": {},
   "outputs": [],
   "source": [
    "# Create buttons\n",
    "summarize_button = tk.Button(window, text=\"Summarize\", width=10, command=summarize_text)\n",
    "summarize_button.grid(row=2, column=1, padx=10, pady=5, sticky=tk.W)\n",
    "clear_button = tk.Button(window, text=\"Clear\", width=10, command=clear_text)\n",
    "clear_button.grid(row=2, column=1, padx=10, pady=5, sticky=tk.E)"
   ]
  },
  {
   "cell_type": "code",
   "execution_count": 16,
   "id": "356737c4-a096-4b81-93de-974484d1d1e9",
   "metadata": {},
   "outputs": [],
   "source": [
    "# Create menu bar\n",
    "menu_bar = tk.Menu(window)\n",
    "window.config(menu=menu_bar)\n"
   ]
  },
  {
   "cell_type": "code",
   "execution_count": null,
   "id": "c22a0230-65a8-4505-807a-edfa67877823",
   "metadata": {},
   "outputs": [],
   "source": []
  }
 ],
 "metadata": {
  "kernelspec": {
   "display_name": "Python 3 (ipykernel)",
   "language": "python",
   "name": "python3"
  },
  "language_info": {
   "codemirror_mode": {
    "name": "ipython",
    "version": 3
   },
   "file_extension": ".py",
   "mimetype": "text/x-python",
   "name": "python",
   "nbconvert_exporter": "python",
   "pygments_lexer": "ipython3",
   "version": "3.12.0"
  }
 },
 "nbformat": 4,
 "nbformat_minor": 5
}
